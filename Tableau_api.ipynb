{
 "cells": [
  {
   "cell_type": "code",
   "execution_count": null,
   "metadata": {},
   "outputs": [],
   "source": []
  },
  {
   "cell_type": "markdown",
   "metadata": {},
   "source": [
    "### Import package"
   ]
  },
  {
   "cell_type": "code",
   "execution_count": 1,
   "metadata": {},
   "outputs": [],
   "source": [
    "import csv \n",
    "import requests \n",
    "import xml.etree.ElementTree as ET \n",
    "import re, collections\n",
    "from lxml import etree\n",
    "import os"
   ]
  },
  {
   "cell_type": "markdown",
   "metadata": {},
   "source": [
    "\n",
    "### Read file"
   ]
  },
  {
   "cell_type": "code",
   "execution_count": 2,
   "metadata": {},
   "outputs": [
    {
     "name": "stdout",
     "output_type": "stream",
     "text": [
      " Le volume dans le lecteur C s'appelle Windows\n",
      " Le num‚ro de s‚rie du volume est ECA6-2E6D\n",
      "\n",
      " R‚pertoire de C:\\Users\\laurent\\Desktop\\TestTableau\n",
      "\n",
      "07/08/2019  10:30    <DIR>          .\n",
      "07/08/2019  10:30    <DIR>          ..\n",
      "07/08/2019  09:56             6ÿ919 IRIS.tds\n",
      "07/08/2019  09:56             6ÿ919 tds_IRIS.tds\n",
      "07/08/2019  10:24             9ÿ979 wb_IRIS.twb\n",
      "               3 fichier(s)           23ÿ817 octets\n",
      "               2 R‚p(s)  129ÿ605ÿ292ÿ032 octets libres\n"
     ]
    }
   ],
   "source": [
    "!dir C:\\Users\\laurent\\Desktop\\TestTableau\n",
    "    "
   ]
  },
  {
   "cell_type": "code",
   "execution_count": 3,
   "metadata": {},
   "outputs": [],
   "source": [
    "file_directory = 'C:\\\\Users\\laurent\\Desktop\\TestTableau'\n",
    "file_name = 'tds_IRIS.tds'#'Iris.twb'\n",
    "#file_path=os.path.join(file_directory,file_name)\n",
    "os.chdir(file_directory)\n"
   ]
  },
  {
   "cell_type": "markdown",
   "metadata": {},
   "source": [
    "## Lxml xml Parsing"
   ]
  },
  {
   "cell_type": "markdown",
   "metadata": {},
   "source": [
    "### Root "
   ]
  },
  {
   "cell_type": "code",
   "execution_count": 4,
   "metadata": {},
   "outputs": [],
   "source": [
    "tree = etree.parse(file_name)\n",
    "root = tree.getroot()\n"
   ]
  },
  {
   "cell_type": "markdown",
   "metadata": {},
   "source": [
    "### Beautiful tree"
   ]
  },
  {
   "cell_type": "code",
   "execution_count": 29,
   "metadata": {},
   "outputs": [
    {
     "data": {
      "text/plain": [
       "'6b2ef74705f9c5f01f7b4ebb30a71951329035fa'"
      ]
     },
     "execution_count": 29,
     "metadata": {},
     "output_type": "execute_result"
    }
   ],
   "source": [
    "#os.environ[\"GIT_PYTHON_REFRESH\"] = \"quiet\"\n",
    "import git\n",
    "repo = git.Repo(search_parent_directories=True)\n",
    "sha = repo.head.object.hexsha\n",
    "sha"
   ]
  },
  {
   "cell_type": "code",
   "execution_count": 61,
   "metadata": {},
   "outputs": [
    {
     "data": {
      "text/plain": [
       "['.git',\n",
       " '.gitignore',\n",
       " 'IRIS.tds',\n",
       " 'tds_IRIS.tds',\n",
       " 'wb_IRIS - Copie.twb',\n",
       " 'wb_IRIS.twb',\n",
       " '~wb_IRIS__14952.twbr']"
      ]
     },
     "execution_count": 61,
     "metadata": {},
     "output_type": "execute_result"
    }
   ],
   "source": [
    "os.listdir()"
   ]
  },
  {
   "cell_type": "code",
   "execution_count": 70,
   "metadata": {},
   "outputs": [],
   "source": [
    "from collections import Counter\n",
    "def PrettyTree(root,tree):\n",
    "    nice_tree = collections.OrderedDict()\n",
    "    cnt = Counter()\n",
    "    print('', file=open(\"output.txt\", \"w\"))\n",
    "    for i,ElementNode in enumerate(root.iter()):\n",
    "            #print(ElementNode,tree.getpath(ElementNode))\n",
    "            path =re.sub('\\[[0-9]+\\]', '', tree.getpath(ElementNode))\n",
    "            cnt[path] += 1\n",
    "            if path not in nice_tree:\n",
    "                nice_tree[path] = []\n",
    "            nice_tree[path].extend(attrib for attrib in ElementNode.keys() if attrib not in nice_tree[path])\n",
    "    for path, attribs in nice_tree.items():\n",
    "        indent = int(path.count('/') - 1)\n",
    "        print('{0}{1}: {2}({3}) [{4}]'.format('    ' * indent, indent, path.split('/')[-1], cnt[path],', '.join(attribs) if len(attribs) > 0 else '-'))\n",
    "        print('{0}{1}: {2}({3}) [{4}]'.format('    ' * indent, indent, path.split('/')[-1], cnt[path],', '.join(attribs) if len(attribs) > 0 else '-'), file=open(\"output.txt\", \"a\"))\n",
    "    return True"
   ]
  },
  {
   "cell_type": "markdown",
   "metadata": {},
   "source": [
    "#### Test beautiful Tree"
   ]
  },
  {
   "cell_type": "markdown",
   "metadata": {},
   "source": [
    "https://python-forum.io/Thread-How-to-display-XML-tree-structure-with-Python"
   ]
  },
  {
   "cell_type": "markdown",
   "metadata": {},
   "source": [
    "##### Alias pour filtre"
   ]
  },
  {
   "cell_type": "code",
   "execution_count": 105,
   "metadata": {},
   "outputs": [
    {
     "name": "stdout",
     "output_type": "stream",
     "text": [
      "preference ['name', 'value'] 24\n",
      "preference ['name', 'value'] 26\n",
      "semantic-value ['key', 'value'] \"France\"\n",
      "column ['caption', 'datatype', 'name', 'param-domain-type', 'role', 'type', 'value'] 5\n",
      "column ['caption', 'datatype', 'name', 'param-domain-type', 'role', 'type', 'value'] 5\n",
      "aggregation ['value'] true\n",
      "format ['attr', 'field', 'value'] Mon filtre espècenom hehe\n",
      "breakdown ['value'] auto\n"
     ]
    }
   ],
   "source": [
    "root_wb.xpath(\"//*[@value]\")\n",
    "for node in root_wb.findall(\".//*[@value]\"):\n",
    "    print(node.tag,node.keys(),node.get('value'))\n",
    "    "
   ]
  },
  {
   "cell_type": "markdown",
   "metadata": {},
   "source": [
    "##### Création et modification d'une colonne (champ calculé, paramètre, set,...)"
   ]
  },
  {
   "cell_type": "code",
   "execution_count": 101,
   "metadata": {},
   "outputs": [
    {
     "name": "stdout",
     "output_type": "stream",
     "text": [
      "named-connection ['caption', 'name'] IRIS None\n",
      "column ['caption', 'datatype', 'name', 'role', 'type'] Add largeur longueur real\n",
      "column ['caption', 'datatype', 'name', 'role', 'type'] largeur - longueur real\n",
      "column ['caption', 'datatype', 'name', 'role', 'type'] Petal longueur real\n",
      "column ['caption', 'datatype', 'name', 'role', 'type'] Petal largeur real\n",
      "column ['caption', 'datatype', 'name', 'role', 'type'] Sepal longueur real\n",
      "column ['caption', 'datatype', 'name', 'role', 'type'] Sepal largeur real\n",
      "column ['caption', 'datatype', 'name', 'role', 'type'] Espèce numéro integer\n",
      "column ['caption', 'datatype', 'name', 'role', 'type'] Espèce nom string\n",
      "column ['caption', 'datatype', 'name', 'param-domain-type', 'role', 'type', 'value'] My param top N integer\n",
      "column ['caption', 'datatype', 'name', 'param-domain-type', 'role', 'type', 'value'] My param top N integer\n",
      "column ['caption', 'datatype', 'name', 'role', 'type'] Sepal largeur real\n",
      "column ['caption', 'datatype', 'name', 'role', 'type'] Espèce nom string\n"
     ]
    }
   ],
   "source": [
    "root_wb.xpath(\"//*[@caption]\")\n",
    "for node in root_wb.findall(\".//*[@caption]\"):\n",
    "    print(node.tag,node.keys(),node.get('caption'),node.get('datatype'))\n",
    "    \n"
   ]
  },
  {
   "cell_type": "markdown",
   "metadata": {},
   "source": [
    "##### Alias pour les champs textuels (changer data intérieure)"
   ]
  },
  {
   "cell_type": "markdown",
   "metadata": {},
   "source": [
    " <alias key='&quot; Setosa&quot;' value=' MonAliasSetosa'\n",
    "        \n",
    " Problème ed création d'alias (en cas d'oublies à certaines lignes)"
   ]
  },
  {
   "cell_type": "code",
   "execution_count": null,
   "metadata": {},
   "outputs": [],
   "source": []
  },
  {
   "cell_type": "code",
   "execution_count": 109,
   "metadata": {},
   "outputs": [
    {
     "name": "stdout",
     "output_type": "stream",
     "text": [
      "0: workbook(1) [original-version, source-build, source-platform, version]\n",
      "    1: preferences(1) [-]\n",
      "        2: preference(2) [name, value]\n",
      "    1: datasources(1) [-]\n",
      "        2: datasource(2) [inline, name, version, hasconnection]\n",
      "            3: connection(1) [class]\n",
      "                4: named-connections(1) [-]\n",
      "                    5: named-connection(1) [caption, name]\n",
      "                        6: connection(1) [class, cleaning, compat, dataRefreshTime, filename, interpretationMode, password, server, validate]\n",
      "                4: relation(1) [connection, name, table, type]\n",
      "                    5: columns(1) [gridOrigin, header, outcome]\n",
      "                        6: column(6) [datatype, name, ordinal]\n",
      "                4: metadata-records(1) [-]\n",
      "                    5: metadata-record(7) [class]\n",
      "                        6: remote-name(7) [-]\n",
      "                        6: remote-type(7) [-]\n",
      "                        6: local-name(6) [-]\n",
      "                        6: parent-name(7) [-]\n",
      "                        6: remote-alias(7) [-]\n",
      "                        6: ordinal(6) [-]\n",
      "                        6: local-type(6) [-]\n",
      "                        6: aggregation(7) [-]\n",
      "                        6: contains-null(7) [-]\n",
      "                        6: attributes(7) [-]\n",
      "                            7: attribute(10) [datatype, name]\n",
      "                        6: precision(4) [-]\n",
      "                        6: collation(1) [flag, name]\n",
      "            3: aliases(2) [enabled]\n",
      "            3: column(9) [caption, datatype, name, role, type, param-domain-type, value]\n",
      "                4: calculation(4) [class, formula]\n",
      "                4: aliases(1) [-]\n",
      "                    5: alias(1) [key, value]\n",
      "            3: layout(1) [dim-ordering, dim-percentage, measure-ordering, measure-percentage, parameter-percentage, show-aliased-fields, show-structure]\n",
      "            3: semantic-values(1) [-]\n",
      "                4: semantic-value(1) [key, value]\n",
      "            3: date-options(1) [start-of-week]\n",
      "                4: range(1) [max, min]\n",
      "    1: worksheets(1) [-]\n",
      "        2: worksheet(1) [name]\n",
      "            3: table(1) [-]\n",
      "                4: view(1) [-]\n",
      "                    5: datasources(1) [-]\n",
      "                        6: datasource(2) [name]\n",
      "                    5: datasource-dependencies(2) [datasource]\n",
      "                        6: column(6) [caption, datatype, name, param-domain-type, role, type, value]\n",
      "                            7: calculation(1) [class, formula]\n",
      "                            7: range(1) [max, min]\n",
      "                            7: aliases(1) [-]\n",
      "                                8: alias(1) [key, value]\n",
      "                        6: column-instance(5) [column, derivation, name, pivot, type]\n",
      "                    5: filter(1) [class, column]\n",
      "                        6: groupfilter(1) [count, end, function, units, {http://www.tableausoftware.com/xml/user}ui-marker, {http://www.tableausoftware.com/xml/user}ui-top-by-field]\n",
      "                            7: groupfilter(1) [direction, expression, function, {http://www.tableausoftware.com/xml/user}ui-marker]\n",
      "                                8: groupfilter(1) [function, level, {http://www.tableausoftware.com/xml/user}ui-enumeration, {http://www.tableausoftware.com/xml/user}ui-marker]\n",
      "                    5: slices(1) [-]\n",
      "                        6: column(1) [-]\n",
      "                    5: aggregation(1) [value]\n",
      "                4: style(1) [-]\n",
      "                    5: style-rule(1) [element]\n",
      "                        6: format(1) [attr, field, value]\n",
      "                            7: formatted-text(1) [-]\n",
      "                                8: run(1) [-]\n",
      "                4: panes(1) [-]\n",
      "                    5: pane(3) [selection-relaxation-option, id, y-axis-name]\n",
      "                        6: view(3) [-]\n",
      "                            7: breakdown(3) [value]\n",
      "                        6: mark(3) [class]\n",
      "                        6: encodings(2) [-]\n",
      "                            7: color(2) [column]\n",
      "                4: rows(1) [-]\n",
      "                4: cols(1) [-]\n",
      "    1: windows(1) [saved-dpi-scale-factor, source-height]\n",
      "        2: window(1) [class, maximized, name]\n",
      "            3: cards(1) [-]\n",
      "                4: edge(3) [name]\n",
      "                    5: strip(5) [size]\n",
      "                        6: card(10) [type, param, mode, pane-specification-id]\n",
      "            3: viewpoint(1) [-]\n",
      "                4: highlight(1) [-]\n",
      "                    5: color-one-way(1) [-]\n",
      "                        6: field(1) [-]\n",
      "    1: thumbnails(1) [-]\n",
      "        2: thumbnail(1) [height, name, width]\n"
     ]
    },
    {
     "data": {
      "text/plain": [
       "True"
      ]
     },
     "execution_count": 109,
     "metadata": {},
     "output_type": "execute_result"
    }
   ],
   "source": [
    "#version 2\n",
    "tree_wb = etree.parse('wb_IRIS.twb')\n",
    "root_wb = tree_wb.getroot()\n",
    "PrettyTree(root_wb,tree_wb)"
   ]
  },
  {
   "cell_type": "code",
   "execution_count": 240,
   "metadata": {},
   "outputs": [
    {
     "name": "stdout",
     "output_type": "stream",
     "text": [
      "0: datasource(1) [formatted-name, inline, source-platform, version]\n",
      "    1: connection(1) [class]\n",
      "        2: named-connections(1) [-]\n",
      "            3: named-connection(1) [caption, name]\n",
      "                4: connection(1) [class, cleaning, compat, dataRefreshTime, filename, interpretationMode, password, server, validate]\n",
      "        2: relation(1) [connection, name, table, type]\n",
      "            3: columns(1) [gridOrigin, header, outcome]\n",
      "                4: column(6) [datatype, name, ordinal]\n",
      "        2: metadata-records(1) [-]\n",
      "            3: metadata-record(7) [class]\n",
      "                4: remote-name(7) [-]\n",
      "                4: remote-type(7) [-]\n",
      "                4: local-name(6) [-]\n",
      "                4: parent-name(7) [-]\n",
      "                4: remote-alias(7) [-]\n",
      "                4: ordinal(6) [-]\n",
      "                4: local-type(6) [-]\n",
      "                4: aggregation(7) [-]\n",
      "                4: contains-null(7) [-]\n",
      "                4: attributes(7) [-]\n",
      "                    5: attribute(10) [datatype, name]\n",
      "                4: precision(4) [-]\n",
      "                4: collation(1) [flag, name]\n",
      "    1: aliases(1) [enabled]\n",
      "    1: column(7) [datatype, name, role, type, caption]\n",
      "        2: calculation(1) [class, formula]\n",
      "    1: layout(1) [dim-ordering, dim-percentage, measure-ordering, measure-percentage, show-structure]\n",
      "    1: semantic-values(1) [-]\n",
      "        2: semantic-value(1) [key, value]\n",
      "    1: date-options(1) [start-of-week]\n"
     ]
    },
    {
     "data": {
      "text/plain": [
       "True"
      ]
     },
     "execution_count": 240,
     "metadata": {},
     "output_type": "execute_result"
    }
   ],
   "source": [
    "tree_tds = etree.parse('tds_IRIS.tds')\n",
    "root_tds = tree_tds.getroot()\n",
    "PrettyTree(root)"
   ]
  },
  {
   "cell_type": "code",
   "execution_count": null,
   "metadata": {},
   "outputs": [],
   "source": []
  },
  {
   "cell_type": "code",
   "execution_count": 225,
   "metadata": {},
   "outputs": [
    {
     "name": "stdout",
     "output_type": "stream",
     "text": [
      "0: datasource(1) [formatted-name, inline, source-platform, version]\n",
      "    1: connection(1) [class]\n",
      "        2: named-connections(1) [-]\n",
      "            3: named-connection(1) [caption, name]\n",
      "                4: connection(1) [class, cleaning, compat, dataRefreshTime, filename, interpretationMode, password, server, validate]\n",
      "        2: relation(1) [connection, name, table, type]\n",
      "            3: columns(1) [gridOrigin, header, outcome]\n",
      "                4: column(6) [datatype, name, ordinal]\n",
      "        2: metadata-records(1) [-]\n",
      "            3: metadata-record(7) [class]\n",
      "                4: remote-name(7) [-]\n",
      "                4: remote-type(7) [-]\n",
      "                4: local-name(6) [-]\n",
      "                4: parent-name(7) [-]\n",
      "                4: remote-alias(7) [-]\n",
      "                4: ordinal(6) [-]\n",
      "                4: local-type(6) [-]\n",
      "                4: aggregation(7) [-]\n",
      "                4: contains-null(7) [-]\n",
      "                4: attributes(7) [-]\n",
      "                    5: attribute(10) [datatype, name]\n",
      "                4: precision(4) [-]\n",
      "                4: collation(1) [flag, name]\n",
      "    1: aliases(1) [enabled]\n",
      "    1: column(7) [datatype, name, role, type, caption]\n",
      "        2: calculation(1) [class, formula]\n",
      "    1: layout(1) [dim-ordering, dim-percentage, measure-ordering, measure-percentage, show-structure]\n",
      "    1: semantic-values(1) [-]\n",
      "        2: semantic-value(1) [key, value]\n",
      "    1: date-options(1) [start-of-week]\n"
     ]
    }
   ],
   "source": [
    "############### Test ###################\n",
    "nice_tree = collections.OrderedDict()\n",
    "cnt = Counter()\n",
    "for i,ElementNode in enumerate(root.iter()):\n",
    "        #print(ElementNode,tree.getpath(ElementNode))\n",
    "        path =re.sub('\\[[0-9]+\\]', '', tree.getpath(ElementNode))\n",
    "        cnt[path] += 1\n",
    "        if path not in nice_tree:\n",
    "            nice_tree[path] = []\n",
    "        nice_tree[path].extend(attrib for attrib in ElementNode.keys() if attrib not in nice_tree[path])\n",
    "\n",
    "for path, attribs in nice_tree.items():\n",
    "    indent = int(path.count('/') - 1)\n",
    "    print('{0}{1}: {2}({3}) [{4}]'.format('    ' * indent, indent, path.split('/')[-1], cnt[path],', '.join(attribs) if len(attribs) > 0 else '-'))"
   ]
  },
  {
   "cell_type": "markdown",
   "metadata": {
    "toc-hr-collapsed": false
   },
   "source": [
    "## ElementTree xml Parsing"
   ]
  },
  {
   "cell_type": "code",
   "execution_count": 28,
   "metadata": {
    "collapsed": true,
    "jupyter": {
     "outputs_hidden": true
    }
   },
   "outputs": [
    {
     "name": "stdout",
     "output_type": "stream",
     "text": [
      "<?xml version='1.0' encoding='utf-8' ?>\n",
      "\n",
      "<!-- build 10500.18.0305.1200                               -->\n",
      "<workbook original-version='10.5' source-build='10.5.2 (10500.18.0305.1200)' source-platform='win' version='10.5' xmlns:user='http://www.tableausoftware.com/xml/user'>\n",
      "  <preferences>\n",
      "    <preference name='ui.encoding.shelf.height' value='24' />\n",
      "    <preference name='ui.shelf.height' value='26' />\n",
      "  </preferences>\n",
      "  <datasources>\n",
      "    <datasource caption='Sheet1 (IRIS)' inline='true' name='federated.158axzb1r5gieb1e0lpaa1goumaw' version='10.5'>\n",
      "      <connection class='federated'>\n",
      "        <named-connections>\n",
      "          <named-connection caption='IRIS' name='excel-direct.1qkk2b50o89opa1exgl8t1z07ct8'>\n",
      "            <connection class='excel-direct' cleaning='no' compat='no' dataRefreshTime='' filename='C:/Users/laurent/Downloads/IRIS.xlsx' interpretationMode='0' password='' server='' validate='no' />\n",
      "          </named-connection>\n",
      "        </named-connections>\n",
      "        <relation connection='excel-direct.1qkk2b50o89opa1exgl8t1z07ct8' name='Sheet1' table='[Sheet1$]' type='table'>\n",
      "          <columns gridOrigin='A1:F151:no:A1:F151:0' header='yes' outcome='6'>\n",
      "            <column datatype='integer' name='Species_No' ordinal='0' />\n",
      "            <column datatype='real' name='Petal_width' ordinal='1' />\n",
      "            <column datatype='real' name='Petal_length' ordinal='2' />\n",
      "            <column datatype='real' name='Sepal_width' ordinal='3' />\n",
      "            <column datatype='real' name='Sepal_length' ordinal='4' />\n",
      "            <column datatype='string' name='Species_name' ordinal='5' />\n",
      "          </columns>\n",
      "        </relation>\n",
      "        <metadata-records>\n",
      "          <metadata-record class='column'>\n",
      "            <remote-name>Species_No</remote-name>\n",
      "            <remote-type>20</remote-type>\n",
      "            <local-name>[Species_No]</local-name>\n",
      "            <parent-name>[Sheet1]</parent-name>\n",
      "            <remote-alias>Species_No</remote-alias>\n",
      "            <ordinal>0</ordinal>\n",
      "            <local-type>integer</local-type>\n",
      "            <aggregation>Sum</aggregation>\n",
      "            <contains-null>true</contains-null>\n",
      "            <attributes>\n",
      "              <attribute datatype='string' name='DebugRemoteType'>&quot;I8&quot;</attribute>\n",
      "            </attributes>\n",
      "          </metadata-record>\n",
      "          <metadata-record class='column'>\n",
      "            <remote-name>Petal_width</remote-name>\n",
      "            <remote-type>5</remote-type>\n",
      "            <local-name>[Petal_width]</local-name>\n",
      "            <parent-name>[Sheet1]</parent-name>\n",
      "            <remote-alias>Petal_width</remote-alias>\n",
      "            <ordinal>1</ordinal>\n",
      "            <local-type>real</local-type>\n",
      "            <aggregation>Sum</aggregation>\n",
      "            <precision>15</precision>\n",
      "            <contains-null>true</contains-null>\n",
      "            <attributes>\n",
      "              <attribute datatype='string' name='DebugRemoteType'>&quot;R8&quot;</attribute>\n",
      "            </attributes>\n",
      "          </metadata-record>\n",
      "          <metadata-record class='column'>\n",
      "            <remote-name>Petal_length</remote-name>\n",
      "            <remote-type>5</remote-type>\n",
      "            <local-name>[Petal_length]</local-name>\n",
      "            <parent-name>[Sheet1]</parent-name>\n",
      "            <remote-alias>Petal_length</remote-alias>\n",
      "            <ordinal>2</ordinal>\n",
      "            <local-type>real</local-type>\n",
      "            <aggregation>Sum</aggregation>\n",
      "            <precision>15</precision>\n",
      "            <contains-null>true</contains-null>\n",
      "            <attributes>\n",
      "              <attribute datatype='string' name='DebugRemoteType'>&quot;R8&quot;</attribute>\n",
      "            </attributes>\n",
      "          </metadata-record>\n",
      "          <metadata-record class='column'>\n",
      "            <remote-name>Sepal_width</remote-name>\n",
      "            <remote-type>5</remote-type>\n",
      "            <local-name>[Sepal_width]</local-name>\n",
      "            <parent-name>[Sheet1]</parent-name>\n",
      "            <remote-alias>Sepal_width</remote-alias>\n",
      "            <ordinal>3</ordinal>\n",
      "            <local-type>real</local-type>\n",
      "            <aggregation>Sum</aggregation>\n",
      "            <precision>15</precision>\n",
      "            <contains-null>true</contains-null>\n",
      "            <attributes>\n",
      "              <attribute datatype='string' name='DebugRemoteType'>&quot;R8&quot;</attribute>\n",
      "            </attributes>\n",
      "          </metadata-record>\n",
      "          <metadata-record class='column'>\n",
      "            <remote-name>Sepal_length</remote-name>\n",
      "            <remote-type>5</remote-type>\n",
      "            <local-name>[Sepal_length]</local-name>\n",
      "            <parent-name>[Sheet1]</parent-name>\n",
      "            <remote-alias>Sepal_length</remote-alias>\n",
      "            <ordinal>4</ordinal>\n",
      "            <local-type>real</local-type>\n",
      "            <aggregation>Sum</aggregation>\n",
      "            <precision>15</precision>\n",
      "            <contains-null>true</contains-null>\n",
      "            <attributes>\n",
      "              <attribute datatype='string' name='DebugRemoteType'>&quot;R8&quot;</attribute>\n",
      "            </attributes>\n",
      "          </metadata-record>\n",
      "          <metadata-record class='column'>\n",
      "            <remote-name>Species_name</remote-name>\n",
      "            <remote-type>130</remote-type>\n",
      "            <local-name>[Species_name]</local-name>\n",
      "            <parent-name>[Sheet1]</parent-name>\n",
      "            <remote-alias>Species_name</remote-alias>\n",
      "            <ordinal>5</ordinal>\n",
      "            <local-type>string</local-type>\n",
      "            <aggregation>Count</aggregation>\n",
      "            <contains-null>true</contains-null>\n",
      "            <collation flag='1' name='LFR_RFR_S2' />\n",
      "            <attributes>\n",
      "              <attribute datatype='string' name='DebugRemoteType'>&quot;WSTR&quot;</attribute>\n",
      "            </attributes>\n",
      "          </metadata-record>\n",
      "          <metadata-record class='capability'>\n",
      "            <remote-name />\n",
      "            <remote-type>0</remote-type>\n",
      "            <parent-name>[Sheet1]</parent-name>\n",
      "            <remote-alias />\n",
      "            <aggregation>Count</aggregation>\n",
      "            <contains-null>true</contains-null>\n",
      "            <attributes>\n",
      "              <attribute datatype='integer' name='context'>0</attribute>\n",
      "              <attribute datatype='string' name='gridOrigin'>&quot;A1:F151:no:A1:F151:0&quot;</attribute>\n",
      "              <attribute datatype='boolean' name='header'>true</attribute>\n",
      "              <attribute datatype='integer' name='outcome'>6</attribute>\n",
      "            </attributes>\n",
      "          </metadata-record>\n",
      "        </metadata-records>\n",
      "      </connection>\n",
      "      <aliases enabled='yes' />\n",
      "      <column datatype='integer' name='[Number of Records]' role='measure' type='quantitative' user:auto-column='numrec'>\n",
      "        <calculation class='tableau' formula='1' />\n",
      "      </column>\n",
      "      <column caption='Petal length' datatype='real' name='[Petal_length]' role='measure' type='quantitative' />\n",
      "      <column caption='Petal width' datatype='real' name='[Petal_width]' role='measure' type='quantitative' />\n",
      "      <column caption='Sepal length' datatype='real' name='[Sepal_length]' role='measure' type='quantitative' />\n",
      "      <column caption='Sepal width' datatype='real' name='[Sepal_width]' role='measure' type='quantitative' />\n",
      "      <column caption='Species No' datatype='integer' name='[Species_No]' role='measure' type='quantitative' />\n",
      "      <column caption='Species name' datatype='string' name='[Species_name]' role='dimension' type='nominal' />\n",
      "      <layout dim-ordering='alphabetic' dim-percentage='0.404719' measure-ordering='alphabetic' measure-percentage='0.595281' show-structure='true' />\n",
      "      <semantic-values>\n",
      "        <semantic-value key='[Country].[Name]' value='&quot;France&quot;' />\n",
      "      </semantic-values>\n",
      "      <date-options start-of-week='monday' />\n",
      "    </datasource>\n",
      "  </datasources>\n",
      "  <worksheets>\n",
      "    <worksheet name='Sheet 1'>\n",
      "      <table>\n",
      "        <view>\n",
      "          <datasources />\n",
      "          <aggregation value='true' />\n",
      "        </view>\n",
      "        <style />\n",
      "        <panes>\n",
      "          <pane selection-relaxation-option='selection-relaxation-allow'>\n",
      "            <view>\n",
      "              <breakdown value='auto' />\n",
      "            </view>\n",
      "            <mark class='Automatic' />\n",
      "          </pane>\n",
      "        </panes>\n",
      "        <rows />\n",
      "        <cols />\n",
      "      </table>\n",
      "    </worksheet>\n",
      "  </worksheets>\n",
      "  <windows source-height='30'>\n",
      "    <window class='worksheet' maximized='true' name='Sheet 1'>\n",
      "      <cards>\n",
      "        <edge name='left'>\n",
      "          <strip size='160'>\n",
      "            <card type='pages' />\n",
      "            <card type='filters' />\n",
      "            <card type='marks' />\n",
      "          </strip>\n",
      "        </edge>\n",
      "        <edge name='top'>\n",
      "          <strip size='2147483647'>\n",
      "            <card type='columns' />\n",
      "          </strip>\n",
      "          <strip size='2147483647'>\n",
      "            <card type='rows' />\n",
      "          </strip>\n",
      "          <strip size='31'>\n",
      "            <card type='title' />\n",
      "          </strip>\n",
      "        </edge>\n",
      "      </cards>\n",
      "    </window>\n",
      "  </windows>\n",
      "  <thumbnails>\n",
      "    <thumbnail height='192' name='Sheet 1' width='192'>\n",
      "      iVBORw0KGgoAAAANSUhEUgAAAMAAAADACAYAAABS3GwHAAAACXBIWXMAABJ0AAASdAHeZh94\n",
      "      AAACFUlEQVR4nO3TMQEAIAzAMMC/5yFjRxMFfXpnZg5Eve0A2GQA0gxAmgFIMwBpBiDNAKQZ\n",
      "      gDQDkGYA0gxAmgFIMwBpBiDNAKQZgDQDkGYA0gxAmgFIMwBpBiDNAKQZgDQDkGYA0gxAmgFI\n",
      "      MwBpBiDNAKQZgDQDkGYA0gxAmgFIMwBpBiDNAKQZgDQDkGYA0gxAmgFIMwBpBiDNAKQZgDQD\n",
      "      kGYA0gxAmgFIMwBpBiDNAKQZgDQDkGYA0gxAmgFIMwBpBiDNAKQZgDQDkGYA0gxAmgFIMwBp\n",
      "      BiDNAKQZgDQDkGYA0gxAmgFIMwBpBiDNAKQZgDQDkGYA0gxAmgFIMwBpBiDNAKQZgDQDkGYA\n",
      "      0gxAmgFIMwBpBiDNAKQZgDQDkGYA0gxAmgFIMwBpBiDNAKQZgDQDkGYA0gxAmgFIMwBpBiDN\n",
      "      AKQZgDQDkGYA0gxAmgFIMwBpBiDNAKQZgDQDkGYA0gxAmgFIMwBpBiDNAKQZgDQDkGYA0gxA\n",
      "      mgFIMwBpBiDNAKQZgDQDkGYA0gxAmgFIMwBpBiDNAKQZgDQDkGYA0gxAmgFIMwBpBiDNAKQZ\n",
      "      gDQDkGYA0gxAmgFIMwBpBiDNAKQZgDQDkGYA0gxAmgFIMwBpBiDNAKQZgDQDkGYA0gxAmgFI\n",
      "      MwBpBiDNAKQZgDQDkGYA0gxAmgFIMwBpBiDNAKQZgDQDkGYA0gxAmgFIMwBpBiDNAKR9Y+0F\n",
      "      fBUOM1sAAAAASUVORK5CYII=\n",
      "    </thumbnail>\n",
      "  </thumbnails>\n",
      "</workbook>\n"
     ]
    }
   ],
   "source": [
    "!more  C:\\\\Users\\laurent\\Desktop\\Iris.twb "
   ]
  },
  {
   "cell_type": "markdown",
   "metadata": {},
   "source": [
    "\n",
    "### Root "
   ]
  },
  {
   "cell_type": "code",
   "execution_count": 78,
   "metadata": {},
   "outputs": [
    {
     "name": "stdout",
     "output_type": "stream",
     "text": [
      "tag: datasource attrib {'formatted-name': 'federated.158axzb1r5gieb1e0lpaa1goumaw', 'inline': 'true', 'source-platform': 'win', 'version': '10.5'} text \n",
      "  \n"
     ]
    }
   ],
   "source": [
    "tree = ET.parse(file_path)\n",
    "root = tree.getroot()\n",
    "print('tag:',root.tag,'attrib',root.attrib,'text:',root.text)"
   ]
  },
  {
   "cell_type": "code",
   "execution_count": 92,
   "metadata": {},
   "outputs": [
    {
     "data": {
      "text/plain": [
       "['datasource',\n",
       " 'connection',\n",
       " 'named-connections',\n",
       " 'named-connection',\n",
       " 'connection',\n",
       " 'relation',\n",
       " 'columns',\n",
       " 'column',\n",
       " 'column',\n",
       " 'column',\n",
       " 'column',\n",
       " 'column',\n",
       " 'column',\n",
       " 'metadata-records',\n",
       " 'metadata-record',\n",
       " 'remote-name',\n",
       " 'remote-type',\n",
       " 'local-name',\n",
       " 'parent-name',\n",
       " 'remote-alias',\n",
       " 'ordinal',\n",
       " 'local-type',\n",
       " 'aggregation',\n",
       " 'contains-null',\n",
       " 'attributes',\n",
       " 'attribute',\n",
       " 'metadata-record',\n",
       " 'remote-name',\n",
       " 'remote-type',\n",
       " 'local-name',\n",
       " 'parent-name',\n",
       " 'remote-alias',\n",
       " 'ordinal',\n",
       " 'local-type',\n",
       " 'aggregation',\n",
       " 'precision',\n",
       " 'contains-null',\n",
       " 'attributes',\n",
       " 'attribute',\n",
       " 'metadata-record',\n",
       " 'remote-name',\n",
       " 'remote-type',\n",
       " 'local-name',\n",
       " 'parent-name',\n",
       " 'remote-alias',\n",
       " 'ordinal',\n",
       " 'local-type',\n",
       " 'aggregation',\n",
       " 'precision',\n",
       " 'contains-null',\n",
       " 'attributes',\n",
       " 'attribute',\n",
       " 'metadata-record',\n",
       " 'remote-name',\n",
       " 'remote-type',\n",
       " 'local-name',\n",
       " 'parent-name',\n",
       " 'remote-alias',\n",
       " 'ordinal',\n",
       " 'local-type',\n",
       " 'aggregation',\n",
       " 'precision',\n",
       " 'contains-null',\n",
       " 'attributes',\n",
       " 'attribute',\n",
       " 'metadata-record',\n",
       " 'remote-name',\n",
       " 'remote-type',\n",
       " 'local-name',\n",
       " 'parent-name',\n",
       " 'remote-alias',\n",
       " 'ordinal',\n",
       " 'local-type',\n",
       " 'aggregation',\n",
       " 'precision',\n",
       " 'contains-null',\n",
       " 'attributes',\n",
       " 'attribute',\n",
       " 'metadata-record',\n",
       " 'remote-name',\n",
       " 'remote-type',\n",
       " 'local-name',\n",
       " 'parent-name',\n",
       " 'remote-alias',\n",
       " 'ordinal',\n",
       " 'local-type',\n",
       " 'aggregation',\n",
       " 'contains-null',\n",
       " 'collation',\n",
       " 'attributes',\n",
       " 'attribute',\n",
       " 'metadata-record',\n",
       " 'remote-name',\n",
       " 'remote-type',\n",
       " 'parent-name',\n",
       " 'remote-alias',\n",
       " 'aggregation',\n",
       " 'contains-null',\n",
       " 'attributes',\n",
       " 'attribute',\n",
       " 'attribute',\n",
       " 'attribute',\n",
       " 'attribute',\n",
       " 'aliases',\n",
       " 'column',\n",
       " 'calculation',\n",
       " 'column',\n",
       " 'column',\n",
       " 'column',\n",
       " 'column',\n",
       " 'column',\n",
       " 'column',\n",
       " 'layout',\n",
       " 'semantic-values',\n",
       " 'semantic-value',\n",
       " 'date-options']"
      ]
     },
     "execution_count": 92,
     "metadata": {},
     "output_type": "execute_result"
    }
   ],
   "source": [
    "all_descendants = list(root.iter())\n",
    "[node.tag for node in all_descendants]"
   ]
  },
  {
   "cell_type": "code",
   "execution_count": 80,
   "metadata": {},
   "outputs": [
    {
     "name": "stdout",
     "output_type": "stream",
     "text": [
      "connection\n",
      "aliases\n",
      "column\n",
      "column\n",
      "column\n",
      "column\n",
      "column\n",
      "column\n",
      "column\n",
      "layout\n",
      "semantic-values\n",
      "date-options\n"
     ]
    }
   ],
   "source": [
    "for child in root:\n",
    "    print(child.tag)"
   ]
  },
  {
   "cell_type": "markdown",
   "metadata": {},
   "source": [
    "### Child Root "
   ]
  },
  {
   "cell_type": "code",
   "execution_count": 75,
   "metadata": {},
   "outputs": [
    {
     "name": "stdout",
     "output_type": "stream",
     "text": [
      ">tag: connection >attrib: {'class': 'federated'}\n",
      ">tag: aliases >attrib: {'enabled': 'yes'}\n",
      ">tag: column >attrib: {'datatype': 'integer', 'name': '[Number of Records]', 'role': 'measure', 'type': 'quantitative'}\n",
      ">tag: column >attrib: {'caption': 'Petal longueur', 'datatype': 'real', 'name': '[Petal_length]', 'role': 'measure', 'type': 'quantitative'}\n",
      ">tag: column >attrib: {'caption': 'Petal largeur', 'datatype': 'real', 'name': '[Petal_width]', 'role': 'measure', 'type': 'quantitative'}\n",
      ">tag: column >attrib: {'caption': 'Sepal longueur', 'datatype': 'real', 'name': '[Sepal_length]', 'role': 'measure', 'type': 'quantitative'}\n",
      ">tag: column >attrib: {'caption': 'Sepal largeur', 'datatype': 'real', 'name': '[Sepal_width]', 'role': 'measure', 'type': 'quantitative'}\n",
      ">tag: column >attrib: {'caption': 'Espèce numéro', 'datatype': 'integer', 'name': '[Species_No]', 'role': 'measure', 'type': 'quantitative'}\n",
      ">tag: column >attrib: {'caption': 'Espèce nom', 'datatype': 'string', 'name': '[Species_name]', 'role': 'dimension', 'type': 'nominal'}\n",
      ">tag: layout >attrib: {'dim-ordering': 'alphabetic', 'dim-percentage': '0.410884', 'measure-ordering': 'alphabetic', 'measure-percentage': '0.589116', 'show-structure': 'true'}\n",
      ">tag: semantic-values >attrib: {}\n",
      ">tag: date-options >attrib: {'start-of-week': 'monday'}\n"
     ]
    }
   ],
   "source": [
    "for child in root:\n",
    "    print(\">tag:\",child.tag,\">attrib:\", child.attrib)"
   ]
  },
  {
   "cell_type": "markdown",
   "metadata": {},
   "source": [
    "### Search by tag"
   ]
  },
  {
   "cell_type": "code",
   "execution_count": 76,
   "metadata": {},
   "outputs": [
    {
     "name": "stdout",
     "output_type": "stream",
     "text": [
      "<Element 'column' at 0x00000280A8F71908> {'caption': 'Petal longueur', 'datatype': 'real', 'name': '[Petal_length]', 'role': 'measure', 'type': 'quantitative'} None\n",
      "<Element 'column' at 0x00000280A8F71958> {'caption': 'Petal largeur', 'datatype': 'real', 'name': '[Petal_width]', 'role': 'measure', 'type': 'quantitative'} None\n",
      "<Element 'column' at 0x00000280A8F719F8> {'caption': 'Sepal longueur', 'datatype': 'real', 'name': '[Sepal_length]', 'role': 'measure', 'type': 'quantitative'} None\n",
      "<Element 'column' at 0x00000280A8F71AE8> {'caption': 'Sepal largeur', 'datatype': 'real', 'name': '[Sepal_width]', 'role': 'measure', 'type': 'quantitative'} None\n",
      "<Element 'column' at 0x00000280A8F71B38> {'caption': 'Espèce numéro', 'datatype': 'integer', 'name': '[Species_No]', 'role': 'measure', 'type': 'quantitative'} None\n",
      "<Element 'column' at 0x00000280A8F71B88> {'caption': 'Espèce nom', 'datatype': 'string', 'name': '[Species_name]', 'role': 'dimension', 'type': 'nominal'} None\n"
     ]
    }
   ],
   "source": [
    "for neighbor in root.iter('column'):\n",
    "    if 'caption' in neighbor.attrib:\n",
    "        print(neighbor,neighbor.attrib,neighbor.text)"
   ]
  },
  {
   "cell_type": "markdown",
   "metadata": {},
   "source": [
    "Element.findall() finds only elements with a tag which are direct children of the current element. Element.find() finds the first child with a particular tag, and Element.text accesses the element’s text content. Element.get() accesses the element’s attributes:"
   ]
  },
  {
   "cell_type": "markdown",
   "metadata": {},
   "source": [
    "### Writing"
   ]
  },
  {
   "cell_type": "markdown",
   "metadata": {},
   "source": [
    "Once created, an Element object may be manipulated by directly changing its fields (such as Element.text), adding and modifying attributes (Element.set() method), as well as adding new children (for example with Element.append())."
   ]
  },
  {
   "cell_type": "code",
   "execution_count": 38,
   "metadata": {},
   "outputs": [
    {
     "data": {
      "text/plain": [
       "dict_keys(['Petal length', 'Petal width', 'Sepal length', 'Sepal width', 'Species No', 'Species name'])"
      ]
     },
     "execution_count": 38,
     "metadata": {},
     "output_type": "execute_result"
    }
   ],
   "source": [
    "traduction.keys()"
   ]
  },
  {
   "cell_type": "code",
   "execution_count": 48,
   "metadata": {},
   "outputs": [],
   "source": [
    "\n",
    "mydict={}\n",
    "for neighbor in root.iter('column'):\n",
    "    if 'caption' in neighbor.attrib:\n",
    "            mydict[neighbor.attrib['name']]=neighbor.attrib['caption']\n",
    "            "
   ]
  },
  {
   "cell_type": "code",
   "execution_count": 49,
   "metadata": {},
   "outputs": [
    {
     "data": {
      "text/plain": [
       "{'[Petal_length]': 'Petal longueur',\n",
       " '[Petal_width]': 'Petal largeur',\n",
       " '[Sepal_length]': 'Sepal longueur',\n",
       " '[Sepal_width]': 'Sepal largeur',\n",
       " '[Species_No]': 'Espèce numéro',\n",
       " '[Species_name]': 'Espèce nom'}"
      ]
     },
     "execution_count": 49,
     "metadata": {},
     "output_type": "execute_result"
    }
   ],
   "source": [
    "mydict"
   ]
  },
  {
   "cell_type": "code",
   "execution_count": 47,
   "metadata": {},
   "outputs": [],
   "source": [
    "traduction={'Petal length':'Petal longueur',\n",
    "'Petal width':'Petal largeur',\n",
    "'Sepal length':'Sepal longueur',\n",
    "'Sepal width':'Sepal largeur',\n",
    "'Species No':'Espèce numéro',\n",
    "'Species name':'Espèce nom'}\n",
    "for neighbor in root.iter('column'):\n",
    "    if 'caption' in neighbor.attrib:\n",
    "        if neighbor.attrib['caption'] in list(traduction.keys())  :\n",
    "            print(traduction[neighbor.attrib['caption']])\n",
    "            neighbor.set('caption',traduction[neighbor.attrib['caption']])\n",
    "\n",
    "            \n",
    "            \n",
    "tree.write('output.twb')\n",
    "        "
   ]
  },
  {
   "cell_type": "code",
   "execution_count": 44,
   "metadata": {
    "collapsed": true,
    "jupyter": {
     "outputs_hidden": true
    }
   },
   "outputs": [
    {
     "name": "stdout",
     "output_type": "stream",
     "text": [
      "<workbook xmlns:ns0=\"http://www.tableausoftware.com/xml/user\" original-version=\"10.5\" source-build=\"10.5.2 (10500.18.0305.1200)\" source-platform=\"win\" version=\"10.5\">\n",
      "  <preferences>\n",
      "    <preference name=\"ui.encoding.shelf.height\" value=\"24\" />\n",
      "    <preference name=\"ui.shelf.height\" value=\"26\" />\n",
      "  </preferences>\n",
      "  <datasources>\n",
      "    <datasource caption=\"Sheet1 (IRIS)\" inline=\"true\" name=\"federated.158axzb1r5gieb1e0lpaa1goumaw\" version=\"10.5\">\n",
      "      <connection class=\"federated\">\n",
      "        <named-connections>\n",
      "          <named-connection caption=\"IRIS\" name=\"excel-direct.1qkk2b50o89opa1exgl8t1z07ct8\">\n",
      "            <connection class=\"excel-direct\" cleaning=\"no\" compat=\"no\" dataRefreshTime=\"\" filename=\"C:/Users/laurent/Downloads/IRIS.xlsx\" interpretationMode=\"0\" password=\"\" server=\"\" validate=\"no\" />\n",
      "          </named-connection>\n",
      "        </named-connections>\n",
      "        <relation connection=\"excel-direct.1qkk2b50o89opa1exgl8t1z07ct8\" name=\"Sheet1\" table=\"[Sheet1$]\" type=\"table\">\n",
      "          <columns gridOrigin=\"A1:F151:no:A1:F151:0\" header=\"yes\" outcome=\"6\">\n",
      "            <column datatype=\"integer\" name=\"Species_No\" ordinal=\"0\" />\n",
      "            <column datatype=\"real\" name=\"Petal_width\" ordinal=\"1\" />\n",
      "            <column datatype=\"real\" name=\"Petal_length\" ordinal=\"2\" />\n",
      "            <column datatype=\"real\" name=\"Sepal_width\" ordinal=\"3\" />\n",
      "            <column datatype=\"real\" name=\"Sepal_length\" ordinal=\"4\" />\n",
      "            <column datatype=\"string\" name=\"Species_name\" ordinal=\"5\" />\n",
      "          </columns>\n",
      "        </relation>\n",
      "        <metadata-records>\n",
      "          <metadata-record class=\"column\">\n",
      "            <remote-name>Species_No</remote-name>\n",
      "            <remote-type>20</remote-type>\n",
      "            <local-name>[Species_No]</local-name>\n",
      "            <parent-name>[Sheet1]</parent-name>\n",
      "            <remote-alias>Species_No</remote-alias>\n",
      "            <ordinal>0</ordinal>\n",
      "            <local-type>integer</local-type>\n",
      "            <aggregation>Sum</aggregation>\n",
      "            <contains-null>true</contains-null>\n",
      "            <attributes>\n",
      "              <attribute datatype=\"string\" name=\"DebugRemoteType\">\"I8\"</attribute>\n",
      "            </attributes>\n",
      "          </metadata-record>\n",
      "          <metadata-record class=\"column\">\n",
      "            <remote-name>Petal_width</remote-name>\n",
      "            <remote-type>5</remote-type>\n",
      "            <local-name>[Petal_width]</local-name>\n",
      "            <parent-name>[Sheet1]</parent-name>\n",
      "            <remote-alias>Petal_width</remote-alias>\n",
      "            <ordinal>1</ordinal>\n",
      "            <local-type>real</local-type>\n",
      "            <aggregation>Sum</aggregation>\n",
      "            <precision>15</precision>\n",
      "            <contains-null>true</contains-null>\n",
      "            <attributes>\n",
      "              <attribute datatype=\"string\" name=\"DebugRemoteType\">\"R8\"</attribute>\n",
      "            </attributes>\n",
      "          </metadata-record>\n",
      "          <metadata-record class=\"column\">\n",
      "            <remote-name>Petal_length</remote-name>\n",
      "            <remote-type>5</remote-type>\n",
      "            <local-name>[Petal_length]</local-name>\n",
      "            <parent-name>[Sheet1]</parent-name>\n",
      "            <remote-alias>Petal_length</remote-alias>\n",
      "            <ordinal>2</ordinal>\n",
      "            <local-type>real</local-type>\n",
      "            <aggregation>Sum</aggregation>\n",
      "            <precision>15</precision>\n",
      "            <contains-null>true</contains-null>\n",
      "            <attributes>\n",
      "              <attribute datatype=\"string\" name=\"DebugRemoteType\">\"R8\"</attribute>\n",
      "            </attributes>\n",
      "          </metadata-record>\n",
      "          <metadata-record class=\"column\">\n",
      "            <remote-name>Sepal_width</remote-name>\n",
      "            <remote-type>5</remote-type>\n",
      "            <local-name>[Sepal_width]</local-name>\n",
      "            <parent-name>[Sheet1]</parent-name>\n",
      "            <remote-alias>Sepal_width</remote-alias>\n",
      "            <ordinal>3</ordinal>\n",
      "            <local-type>real</local-type>\n",
      "            <aggregation>Sum</aggregation>\n",
      "            <precision>15</precision>\n",
      "            <contains-null>true</contains-null>\n",
      "            <attributes>\n",
      "              <attribute datatype=\"string\" name=\"DebugRemoteType\">\"R8\"</attribute>\n",
      "            </attributes>\n",
      "          </metadata-record>\n",
      "          <metadata-record class=\"column\">\n",
      "            <remote-name>Sepal_length</remote-name>\n",
      "            <remote-type>5</remote-type>\n",
      "            <local-name>[Sepal_length]</local-name>\n",
      "            <parent-name>[Sheet1]</parent-name>\n",
      "            <remote-alias>Sepal_length</remote-alias>\n",
      "            <ordinal>4</ordinal>\n",
      "            <local-type>real</local-type>\n",
      "            <aggregation>Sum</aggregation>\n",
      "            <precision>15</precision>\n",
      "            <contains-null>true</contains-null>\n",
      "            <attributes>\n",
      "              <attribute datatype=\"string\" name=\"DebugRemoteType\">\"R8\"</attribute>\n",
      "            </attributes>\n",
      "          </metadata-record>\n",
      "          <metadata-record class=\"column\">\n",
      "            <remote-name>Species_name</remote-name>\n",
      "            <remote-type>130</remote-type>\n",
      "            <local-name>[Species_name]</local-name>\n",
      "            <parent-name>[Sheet1]</parent-name>\n",
      "            <remote-alias>Species_name</remote-alias>\n",
      "            <ordinal>5</ordinal>\n",
      "            <local-type>string</local-type>\n",
      "            <aggregation>Count</aggregation>\n",
      "            <contains-null>true</contains-null>\n",
      "            <collation flag=\"1\" name=\"LFR_RFR_S2\" />\n",
      "            <attributes>\n",
      "              <attribute datatype=\"string\" name=\"DebugRemoteType\">\"WSTR\"</attribute>\n",
      "            </attributes>\n",
      "          </metadata-record>\n",
      "          <metadata-record class=\"capability\">\n",
      "            <remote-name />\n",
      "            <remote-type>0</remote-type>\n",
      "            <parent-name>[Sheet1]</parent-name>\n",
      "            <remote-alias />\n",
      "            <aggregation>Count</aggregation>\n",
      "            <contains-null>true</contains-null>\n",
      "            <attributes>\n",
      "              <attribute datatype=\"integer\" name=\"context\">0</attribute>\n",
      "              <attribute datatype=\"string\" name=\"gridOrigin\">\"A1:F151:no:A1:F151:0\"</attribute>\n",
      "              <attribute datatype=\"boolean\" name=\"header\">true</attribute>\n",
      "              <attribute datatype=\"integer\" name=\"outcome\">6</attribute>\n",
      "            </attributes>\n",
      "          </metadata-record>\n",
      "        </metadata-records>\n",
      "      </connection>\n",
      "      <aliases enabled=\"yes\" />\n",
      "      <column datatype=\"integer\" name=\"[Number of Records]\" role=\"measure\" type=\"quantitative\" ns0:auto-column=\"numrec\">\n",
      "        <calculation class=\"tableau\" formula=\"1\" />\n",
      "      </column>\n",
      "      <column caption=\"Petal longueur\" datatype=\"real\" name=\"[Petal_length]\" role=\"measure\" type=\"quantitative\" />\n",
      "      <column caption=\"Petal largeur\" datatype=\"real\" name=\"[Petal_width]\" role=\"measure\" type=\"quantitative\" />\n",
      "      <column caption=\"Sepal longueur\" datatype=\"real\" name=\"[Sepal_length]\" role=\"measure\" type=\"quantitative\" />\n",
      "      <column caption=\"Sepal largeur\" datatype=\"real\" name=\"[Sepal_width]\" role=\"measure\" type=\"quantitative\" />\n",
      "      <column caption=\"Esp&#232;ce num&#233;ro\" datatype=\"integer\" name=\"[Species_No]\" role=\"measure\" type=\"quantitative\" />\n",
      "      <column caption=\"Esp&#232;ce nom\" datatype=\"string\" name=\"[Species_name]\" role=\"dimension\" type=\"nominal\" />\n",
      "      <layout dim-ordering=\"alphabetic\" dim-percentage=\"0.404719\" measure-ordering=\"alphabetic\" measure-percentage=\"0.595281\" show-structure=\"true\" />\n",
      "      <semantic-values>\n",
      "        <semantic-value key=\"[Country].[Name]\" value=\"&quot;France&quot;\" />\n",
      "      </semantic-values>\n",
      "      <date-options start-of-week=\"monday\" />\n",
      "    </datasource>\n",
      "  </datasources>\n",
      "  <worksheets>\n",
      "    <worksheet name=\"Sheet 1\">\n",
      "      <table>\n",
      "        <view>\n",
      "          <datasources />\n",
      "          <aggregation value=\"true\" />\n",
      "        </view>\n",
      "        <style />\n",
      "        <panes>\n",
      "          <pane selection-relaxation-option=\"selection-relaxation-allow\">\n",
      "            <view>\n",
      "              <breakdown value=\"auto\" />\n",
      "            </view>\n",
      "            <mark class=\"Automatic\" />\n",
      "          </pane>\n",
      "        </panes>\n",
      "        <rows />\n",
      "        <cols />\n",
      "      </table>\n",
      "    </worksheet>\n",
      "  </worksheets>\n",
      "  <windows source-height=\"30\">\n",
      "    <window class=\"worksheet\" maximized=\"true\" name=\"Sheet 1\">\n",
      "      <cards>\n",
      "        <edge name=\"left\">\n",
      "          <strip size=\"160\">\n",
      "            <card type=\"pages\" />\n",
      "            <card type=\"filters\" />\n",
      "            <card type=\"marks\" />\n",
      "          </strip>\n",
      "        </edge>\n",
      "        <edge name=\"top\">\n",
      "          <strip size=\"2147483647\">\n",
      "            <card type=\"columns\" />\n",
      "          </strip>\n",
      "          <strip size=\"2147483647\">\n",
      "            <card type=\"rows\" />\n",
      "          </strip>\n",
      "          <strip size=\"31\">\n",
      "            <card type=\"title\" />\n",
      "          </strip>\n",
      "        </edge>\n",
      "      </cards>\n",
      "    </window>\n",
      "  </windows>\n",
      "  <thumbnails>\n",
      "    <thumbnail height=\"192\" name=\"Sheet 1\" width=\"192\">\n",
      "      iVBORw0KGgoAAAANSUhEUgAAAMAAAADACAYAAABS3GwHAAAACXBIWXMAABJ0AAASdAHeZh94\n",
      "      AAACFUlEQVR4nO3TMQEAIAzAMMC/5yFjRxMFfXpnZg5Eve0A2GQA0gxAmgFIMwBpBiDNAKQZ\n",
      "      gDQDkGYA0gxAmgFIMwBpBiDNAKQZgDQDkGYA0gxAmgFIMwBpBiDNAKQZgDQDkGYA0gxAmgFI\n",
      "      MwBpBiDNAKQZgDQDkGYA0gxAmgFIMwBpBiDNAKQZgDQDkGYA0gxAmgFIMwBpBiDNAKQZgDQD\n",
      "      kGYA0gxAmgFIMwBpBiDNAKQZgDQDkGYA0gxAmgFIMwBpBiDNAKQZgDQDkGYA0gxAmgFIMwBp\n",
      "      BiDNAKQZgDQDkGYA0gxAmgFIMwBpBiDNAKQZgDQDkGYA0gxAmgFIMwBpBiDNAKQZgDQDkGYA\n",
      "      0gxAmgFIMwBpBiDNAKQZgDQDkGYA0gxAmgFIMwBpBiDNAKQZgDQDkGYA0gxAmgFIMwBpBiDN\n",
      "      AKQZgDQDkGYA0gxAmgFIMwBpBiDNAKQZgDQDkGYA0gxAmgFIMwBpBiDNAKQZgDQDkGYA0gxA\n",
      "      mgFIMwBpBiDNAKQZgDQDkGYA0gxAmgFIMwBpBiDNAKQZgDQDkGYA0gxAmgFIMwBpBiDNAKQZ\n",
      "      gDQDkGYA0gxAmgFIMwBpBiDNAKQZgDQDkGYA0gxAmgFIMwBpBiDNAKQZgDQDkGYA0gxAmgFI\n",
      "      MwBpBiDNAKQZgDQDkGYA0gxAmgFIMwBpBiDNAKQZgDQDkGYA0gxAmgFIMwBpBiDNAKR9Y+0F\n",
      "      fBUOM1sAAAAASUVORK5CYII=\n",
      "    </thumbnail>\n",
      "  </thumbnails>\n",
      "</workbook>\n"
     ]
    }
   ],
   "source": [
    "!more  output.xml"
   ]
  },
  {
   "cell_type": "code",
   "execution_count": 46,
   "metadata": {},
   "outputs": [
    {
     "name": "stdout",
     "output_type": "stream",
     "text": [
      " Le volume dans le lecteur C s'appelle Windows\n",
      " Le num‚ro de s‚rie du volume est ECA6-2E6D\n",
      "\n",
      " R‚pertoire de C:\\Users\\laurent\\Documents\n",
      "\n",
      "06/08/2019  17:47    <DIR>          .\n",
      "06/08/2019  17:47    <DIR>          ..\n",
      "26/07/2019  14:39    <DIR>          .ipynb_checkpoints\n",
      "23/07/2019  16:31    <DIR>          BI\n",
      "24/07/2019  18:01             2ÿ226 Dictionnaire des donn‚es - Raccourci.lnk\n",
      "06/08/2019  15:05    <DIR>          Extracts\n",
      "31/07/2019  18:45    <DIR>          ludo_aws_vpn\n",
      "12/07/2019  12:02    <DIR>          Mon dossier Tableau\n",
      "29/07/2019  13:30            11ÿ098 mysql_driver.ipynb\n",
      "06/08/2019  17:46             9ÿ851 output.xml\n",
      "29/07/2019  18:13            96ÿ601 Parse_JL.ipynb\n",
      "06/08/2019  17:47            33ÿ025 Tableau_api.ipynb\n",
      "02/08/2019  16:30    <DIR>          Tests\n",
      "17/07/2019  15:40    <DIR>          Vanessa_Martin\n",
      "               5 fichier(s)          152ÿ801 octets\n",
      "               9 R‚p(s)  130ÿ686ÿ349ÿ312 octets libres\n"
     ]
    }
   ],
   "source": [
    "! dir"
   ]
  },
  {
   "cell_type": "markdown",
   "metadata": {},
   "source": [
    "## Tableau"
   ]
  },
  {
   "cell_type": "code",
   "execution_count": 9,
   "metadata": {},
   "outputs": [],
   "source": [
    "#!pip install tableau_tools"
   ]
  },
  {
   "cell_type": "code",
   "execution_count": 2,
   "metadata": {},
   "outputs": [],
   "source": [
    "from tableaudocumentapi import Workbook\n",
    "sourceWB = Workbook('C:\\\\Users\\laurent\\Documents\\Vanessa_Martin\\Analyse_Hotel\\Hotel_test_api.twb')"
   ]
  },
  {
   "cell_type": "code",
   "execution_count": 7,
   "metadata": {},
   "outputs": [
    {
     "data": {
      "text/plain": [
       "['DATA',\n",
       " \"Délais d'anticipation\",\n",
       " 'KPI',\n",
       " 'KPI Lib',\n",
       " 'Map',\n",
       " 'NB Nuit',\n",
       " 'Prestation et service',\n",
       " 'Résumé',\n",
       " 'Sheet 14',\n",
       " 'Sheet 15',\n",
       " 'Sheet 16',\n",
       " 'Sheet 17',\n",
       " 'Sheet 18',\n",
       " 'Sheet 19',\n",
       " 'Sheet 20',\n",
       " 'Sheet 21',\n",
       " 'Sheet 22',\n",
       " 'Sheet 23',\n",
       " 'Sheet 24',\n",
       " 'Sheet 25',\n",
       " 'Sheet 26',\n",
       " 'Taux de couverture',\n",
       " 'Top Hotel',\n",
       " 'Top Ville',\n",
       " 'Type Hotel']"
      ]
     },
     "execution_count": 7,
     "metadata": {},
     "output_type": "execute_result"
    }
   ],
   "source": [
    "sourceWB.worksheets"
   ]
  },
  {
   "cell_type": "code",
   "execution_count": 9,
   "metadata": {},
   "outputs": [
    {
     "data": {
      "text/plain": [
       "<tableaudocumentapi.datasource.Datasource at 0x21cf912c668>"
      ]
     },
     "execution_count": 9,
     "metadata": {},
     "output_type": "execute_result"
    }
   ],
   "source": [
    "sourceWB.datasources[0]"
   ]
  }
 ],
 "metadata": {
  "kernelspec": {
   "display_name": "Python 3",
   "language": "python",
   "name": "python3"
  },
  "language_info": {
   "codemirror_mode": {
    "name": "ipython",
    "version": 3
   },
   "file_extension": ".py",
   "mimetype": "text/x-python",
   "name": "python",
   "nbconvert_exporter": "python",
   "pygments_lexer": "ipython3",
   "version": "3.7.3"
  },
  "toc-showcode": false
 },
 "nbformat": 4,
 "nbformat_minor": 4
}
